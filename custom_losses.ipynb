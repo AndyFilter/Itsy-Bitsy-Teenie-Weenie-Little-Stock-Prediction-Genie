{
 "cells": [
  {
   "cell_type": "markdown",
   "id": "6ec82adc",
   "metadata": {},
   "source": [
    "# Custom Loss Functions"
   ]
  },
  {
   "cell_type": "code",
   "execution_count": null,
   "id": "2037ad3b",
   "metadata": {},
   "outputs": [],
   "source": [
    "\n",
    "import torch\n",
    "import torch.nn as nn\n",
    "\n",
    "class DirectionalLoss(nn.Module):\n",
    "    def __init__(self):\n",
    "        super(DirectionalLoss, self).__init__()\n",
    "\n",
    "    def forward(self, y_pred, y_true):\n",
    "        direction_true = torch.sign(y_true[1:] - y_true[:-1])\n",
    "        direction_pred = torch.sign(y_pred[1:] - y_pred[:-1])\n",
    "        mismatch = direction_true != direction_pred\n",
    "        return mismatch.float().mean()\n",
    "\n",
    "class WeightedMAELoss(nn.Module):\n",
    "    def __init__(self, up_weight=2.0):\n",
    "        super(WeightedMAELoss, self).__init__()\n",
    "        self.up_weight = up_weight\n",
    "\n",
    "    def forward(self, y_pred, y_true):\n",
    "        weights = torch.where(y_true[1:] > y_true[:-1], self.up_weight, 1.0)\n",
    "        mae = torch.abs(y_pred - y_true)\n",
    "        return (mae * weights).mean()\n",
    "\n",
    "class HybridLoss(nn.Module):\n",
    "    def __init__(self, alpha=0.7):\n",
    "        super(HybridLoss, self).__init__()\n",
    "        self.alpha = alpha\n",
    "\n",
    "    def forward(self, y_pred, y_true):\n",
    "        rmse = torch.sqrt(torch.mean((y_pred - y_true) ** 2))\n",
    "        direction_true = torch.sign(y_true[1:] - y_true[:-1])\n",
    "        direction_pred = torch.sign(y_pred[1:] - y_pred[:-1])\n",
    "        direction_loss = (direction_true != direction_pred).float().mean()\n",
    "        return self.alpha * rmse + (1 - self.alpha) * direction_loss\n"
   ]
  },
  {
   "cell_type": "code",
   "execution_count": null,
   "id": "80abd836",
   "metadata": {},
   "outputs": [],
   "source": [
    "\n",
    "y_true = torch.tensor([100.0, 102.0, 101.0, 105.0, 107.0])\n",
    "y_pred = torch.tensor([99.0, 101.5, 102.0, 104.0, 106.0])\n",
    "\n",
    "dl = DirectionalLoss()\n",
    "wmae = WeightedMAELoss(up_weight=2.0)\n",
    "hl = HybridLoss(alpha=0.7)\n",
    "\n",
    "print(\"DirectionalLoss:\", dl(y_pred, y_true).item())\n",
    "print(\"WeightedMAELoss:\", wmae(y_pred, y_true).item())\n",
    "print(\"HybridLoss:\", hl(y_pred, y_true).item())\n"
   ]
  }
 ],
 "metadata": {},
 "nbformat": 4,
 "nbformat_minor": 5
}
